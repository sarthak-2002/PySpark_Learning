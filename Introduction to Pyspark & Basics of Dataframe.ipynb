{
  "nbformat": 4,
  "nbformat_minor": 0,
  "metadata": {
    "colab": {
      "name": "Untitled5.ipynb",
      "provenance": [],
      "toc_visible": true,
      "authorship_tag": "ABX9TyOrPwO0D+HnwFQs8C5SXZG9",
      "include_colab_link": true
    },
    "kernelspec": {
      "name": "python3",
      "display_name": "Python 3"
    },
    "language_info": {
      "name": "python"
    }
  },
  "cells": [
    {
      "cell_type": "markdown",
      "metadata": {
        "id": "view-in-github",
        "colab_type": "text"
      },
      "source": [
        "<a href=\"https://colab.research.google.com/github/sarthak-2002/PySpark_Learning/blob/main/Introduction%20to%20Pyspark%20%26%20Basics%20of%20Dataframe.ipynb\" target=\"_parent\"><img src=\"https://colab.research.google.com/assets/colab-badge.svg\" alt=\"Open In Colab\"/></a>"
      ]
    },
    {
      "cell_type": "markdown",
      "metadata": {
        "id": "9lhxA-T-aptr"
      },
      "source": [
        "### Learning Outcome:\n",
        "    1. PySpark Dataframe\n",
        "    2. Reading the Dataset\n",
        "    3. Checking DataTypes of the Column(Schema)\n",
        "    4. Selecting Columns and Indexing\n",
        "    5. Check Describe option in PySpark similar to Pandas\n",
        "    6. Adding Columns\n",
        "    7. Dropping Columns\n",
        "    8. Renaming Columns\n",
        "    "
      ]
    },
    {
      "cell_type": "code",
      "metadata": {
        "colab": {
          "base_uri": "https://localhost:8080/"
        },
        "id": "OFnKOzd1X_DP",
        "outputId": "4114a7f5-6fff-4242-dfb6-e38f420b954b"
      },
      "source": [
        "!pip install pyspark"
      ],
      "execution_count": 1,
      "outputs": [
        {
          "output_type": "stream",
          "text": [
            "Collecting pyspark\n",
            "\u001b[?25l  Downloading https://files.pythonhosted.org/packages/89/db/e18cfd78e408de957821ec5ca56de1250645b05f8523d169803d8df35a64/pyspark-3.1.2.tar.gz (212.4MB)\n",
            "\u001b[K     |████████████████████████████████| 212.4MB 71kB/s \n",
            "\u001b[?25hCollecting py4j==0.10.9\n",
            "\u001b[?25l  Downloading https://files.pythonhosted.org/packages/9e/b6/6a4fb90cd235dc8e265a6a2067f2a2c99f0d91787f06aca4bcf7c23f3f80/py4j-0.10.9-py2.py3-none-any.whl (198kB)\n",
            "\u001b[K     |████████████████████████████████| 204kB 18.8MB/s \n",
            "\u001b[?25hBuilding wheels for collected packages: pyspark\n",
            "  Building wheel for pyspark (setup.py) ... \u001b[?25l\u001b[?25hdone\n",
            "  Created wheel for pyspark: filename=pyspark-3.1.2-py2.py3-none-any.whl size=212880768 sha256=1affb0dcf9842ed14a7d8d7bb3ef56b9e8c35349329bb8b00b87b4ec81977482\n",
            "  Stored in directory: /root/.cache/pip/wheels/40/1b/2c/30f43be2627857ab80062bef1527c0128f7b4070b6b2d02139\n",
            "Successfully built pyspark\n",
            "Installing collected packages: py4j, pyspark\n",
            "Successfully installed py4j-0.10.9 pyspark-3.1.2\n"
          ],
          "name": "stdout"
        }
      ]
    },
    {
      "cell_type": "code",
      "metadata": {
        "id": "avJz09n-ZALH"
      },
      "source": [
        "import pyspark"
      ],
      "execution_count": 2,
      "outputs": []
    },
    {
      "cell_type": "code",
      "metadata": {
        "colab": {
          "base_uri": "https://localhost:8080/",
          "height": 144
        },
        "id": "7Pxt3KvWZCf9",
        "outputId": "27cbc8ba-f6d1-40fe-8e77-b4da51601a49"
      },
      "source": [
        "import pandas as pd\n",
        "pd.read_csv(\"test1.csv\")"
      ],
      "execution_count": 3,
      "outputs": [
        {
          "output_type": "execute_result",
          "data": {
            "text/html": [
              "<div>\n",
              "<style scoped>\n",
              "    .dataframe tbody tr th:only-of-type {\n",
              "        vertical-align: middle;\n",
              "    }\n",
              "\n",
              "    .dataframe tbody tr th {\n",
              "        vertical-align: top;\n",
              "    }\n",
              "\n",
              "    .dataframe thead th {\n",
              "        text-align: right;\n",
              "    }\n",
              "</style>\n",
              "<table border=\"1\" class=\"dataframe\">\n",
              "  <thead>\n",
              "    <tr style=\"text-align: right;\">\n",
              "      <th></th>\n",
              "      <th>Name</th>\n",
              "      <th>Age</th>\n",
              "      <th>Experience</th>\n",
              "    </tr>\n",
              "  </thead>\n",
              "  <tbody>\n",
              "    <tr>\n",
              "      <th>0</th>\n",
              "      <td>Sarthak Agarwal</td>\n",
              "      <td>25</td>\n",
              "      <td>1</td>\n",
              "    </tr>\n",
              "    <tr>\n",
              "      <th>1</th>\n",
              "      <td>Sarthak Datta</td>\n",
              "      <td>26</td>\n",
              "      <td>2</td>\n",
              "    </tr>\n",
              "    <tr>\n",
              "      <th>2</th>\n",
              "      <td>Sandip Ganguly</td>\n",
              "      <td>27</td>\n",
              "      <td>4</td>\n",
              "    </tr>\n",
              "  </tbody>\n",
              "</table>\n",
              "</div>"
            ],
            "text/plain": [
              "              Name  Age  Experience\n",
              "0  Sarthak Agarwal   25           1\n",
              "1    Sarthak Datta   26           2\n",
              "2   Sandip Ganguly   27           4"
            ]
          },
          "metadata": {
            "tags": []
          },
          "execution_count": 3
        }
      ]
    },
    {
      "cell_type": "code",
      "metadata": {
        "colab": {
          "base_uri": "https://localhost:8080/"
        },
        "id": "ZCWrgP9jZERL",
        "outputId": "396f7614-b52c-474f-eb1e-e1d36f8a12fa"
      },
      "source": [
        "type(pd.read_csv(\"test1.csv\"))"
      ],
      "execution_count": 4,
      "outputs": [
        {
          "output_type": "execute_result",
          "data": {
            "text/plain": [
              "pandas.core.frame.DataFrame"
            ]
          },
          "metadata": {
            "tags": []
          },
          "execution_count": 4
        }
      ]
    },
    {
      "cell_type": "markdown",
      "metadata": {
        "id": "ZS8XO-aBZKjL"
      },
      "source": [
        "### Creating PySpark Session"
      ]
    },
    {
      "cell_type": "code",
      "metadata": {
        "id": "xT99etmqZL0L"
      },
      "source": [
        "from pyspark.sql import SparkSession"
      ],
      "execution_count": 5,
      "outputs": []
    },
    {
      "cell_type": "code",
      "metadata": {
        "id": "4iQeRvJDZOQo"
      },
      "source": [
        "spark = SparkSession.builder.appName('Practice').getOrCreate()"
      ],
      "execution_count": 6,
      "outputs": []
    },
    {
      "cell_type": "code",
      "metadata": {
        "colab": {
          "base_uri": "https://localhost:8080/",
          "height": 218
        },
        "id": "zPAbkwo4ZRMO",
        "outputId": "50dc3eee-05b5-4da5-f375-9024db330c08"
      },
      "source": [
        "spark "
      ],
      "execution_count": 7,
      "outputs": [
        {
          "output_type": "execute_result",
          "data": {
            "text/html": [
              "\n",
              "            <div>\n",
              "                <p><b>SparkSession - in-memory</b></p>\n",
              "                \n",
              "        <div>\n",
              "            <p><b>SparkContext</b></p>\n",
              "\n",
              "            <p><a href=\"http://e287a4778506:4040\">Spark UI</a></p>\n",
              "\n",
              "            <dl>\n",
              "              <dt>Version</dt>\n",
              "                <dd><code>v3.1.2</code></dd>\n",
              "              <dt>Master</dt>\n",
              "                <dd><code>local[*]</code></dd>\n",
              "              <dt>AppName</dt>\n",
              "                <dd><code>Practice</code></dd>\n",
              "            </dl>\n",
              "        </div>\n",
              "        \n",
              "            </div>\n",
              "        "
            ],
            "text/plain": [
              "<pyspark.sql.session.SparkSession at 0x7feb4af274d0>"
            ]
          },
          "metadata": {
            "tags": []
          },
          "execution_count": 7
        }
      ]
    },
    {
      "cell_type": "code",
      "metadata": {
        "id": "IaSRO8cDZeEI"
      },
      "source": [
        "#Reading a csv file into pyspark\n",
        "df_pyspark =spark.read.csv(\"test1.csv\")"
      ],
      "execution_count": 8,
      "outputs": []
    },
    {
      "cell_type": "code",
      "metadata": {
        "colab": {
          "base_uri": "https://localhost:8080/"
        },
        "id": "UTfGEAtXZetb",
        "outputId": "9d771206-842b-4651-a4f5-0e9fa66c0417"
      },
      "source": [
        "df_pyspark #Header is not detected"
      ],
      "execution_count": 9,
      "outputs": [
        {
          "output_type": "execute_result",
          "data": {
            "text/plain": [
              "DataFrame[_c0: string, _c1: string, _c2: string]"
            ]
          },
          "metadata": {
            "tags": []
          },
          "execution_count": 9
        }
      ]
    },
    {
      "cell_type": "code",
      "metadata": {
        "colab": {
          "base_uri": "https://localhost:8080/"
        },
        "id": "_U205kkRZkMZ",
        "outputId": "e01f3e8f-3694-4dfa-ae7e-c713d29ceaf8"
      },
      "source": [
        "df_pyspark.show()"
      ],
      "execution_count": 10,
      "outputs": [
        {
          "output_type": "stream",
          "text": [
            "+---------------+---+----------+\n",
            "|            _c0|_c1|       _c2|\n",
            "+---------------+---+----------+\n",
            "|           Name|Age|Experience|\n",
            "|Sarthak Agarwal| 25|         1|\n",
            "|  Sarthak Datta| 26|         2|\n",
            "| Sandip Ganguly| 27|         4|\n",
            "+---------------+---+----------+\n",
            "\n"
          ],
          "name": "stdout"
        }
      ]
    },
    {
      "cell_type": "markdown",
      "metadata": {
        "id": "2wN2sISEZwYL"
      },
      "source": [
        "While reading the data from csv file, even after having the header in file it took the excel cell name as header\n",
        "\n",
        "###### Solution using the option in spark.read"
      ]
    },
    {
      "cell_type": "code",
      "metadata": {
        "id": "GrSIC-RBZt9j"
      },
      "source": [
        "df_pyspark=spark.read.option(\"header\",\"true\").csv(\"test1.csv\")"
      ],
      "execution_count": 11,
      "outputs": []
    },
    {
      "cell_type": "code",
      "metadata": {
        "colab": {
          "base_uri": "https://localhost:8080/"
        },
        "id": "QWSeGNJIZ4zW",
        "outputId": "ab6e1b4b-f31d-4a93-b9a0-adfdd0ce3bf9"
      },
      "source": [
        "df_pyspark"
      ],
      "execution_count": 12,
      "outputs": [
        {
          "output_type": "execute_result",
          "data": {
            "text/plain": [
              "DataFrame[Name: string, Age: string, Experience: string]"
            ]
          },
          "metadata": {
            "tags": []
          },
          "execution_count": 12
        }
      ]
    },
    {
      "cell_type": "code",
      "metadata": {
        "colab": {
          "base_uri": "https://localhost:8080/"
        },
        "id": "16mNFqHBZ6T-",
        "outputId": "75c2ada6-626c-456c-907f-3b0137f60a16"
      },
      "source": [
        "df_pyspark.show()"
      ],
      "execution_count": 13,
      "outputs": [
        {
          "output_type": "stream",
          "text": [
            "+---------------+---+----------+\n",
            "|           Name|Age|Experience|\n",
            "+---------------+---+----------+\n",
            "|Sarthak Agarwal| 25|         1|\n",
            "|  Sarthak Datta| 26|         2|\n",
            "| Sandip Ganguly| 27|         4|\n",
            "+---------------+---+----------+\n",
            "\n"
          ],
          "name": "stdout"
        }
      ]
    },
    {
      "cell_type": "code",
      "metadata": {
        "colab": {
          "base_uri": "https://localhost:8080/"
        },
        "id": "VOLQFQZJZ8ey",
        "outputId": "4f59522c-3faa-49e5-f0be-a6d76bd5183f"
      },
      "source": [
        "df_pyspark.printSchema()"
      ],
      "execution_count": 14,
      "outputs": [
        {
          "output_type": "stream",
          "text": [
            "root\n",
            " |-- Name: string (nullable = true)\n",
            " |-- Age: string (nullable = true)\n",
            " |-- Experience: string (nullable = true)\n",
            "\n"
          ],
          "name": "stdout"
        }
      ]
    },
    {
      "cell_type": "markdown",
      "metadata": {
        "id": "-EN9bYyLaBrh"
      },
      "source": [
        "As per the above output it is clear that spark is considering all the variable schema as \"String\", in the above loaded dataset Age & Experience are two Interger type variables.\n",
        "\n",
        "To solve this issue there is a option with csv function i.e. inferSchema = True\n"
      ]
    },
    {
      "cell_type": "code",
      "metadata": {
        "id": "Ks6wZviKZ_FT"
      },
      "source": [
        "df_pyspark=spark.read.option(\"header\",\"true\").csv(\"test1.csv\",inferSchema = True)"
      ],
      "execution_count": 15,
      "outputs": []
    },
    {
      "cell_type": "code",
      "metadata": {
        "colab": {
          "base_uri": "https://localhost:8080/"
        },
        "id": "jqrdHY2JaUWL",
        "outputId": "810734fc-e645-43b2-bdcd-5a98f14ef0cd"
      },
      "source": [
        "# Schema check\n",
        "df_pyspark.printSchema()"
      ],
      "execution_count": 16,
      "outputs": [
        {
          "output_type": "stream",
          "text": [
            "root\n",
            " |-- Name: string (nullable = true)\n",
            " |-- Age: integer (nullable = true)\n",
            " |-- Experience: integer (nullable = true)\n",
            "\n"
          ],
          "name": "stdout"
        }
      ]
    },
    {
      "cell_type": "markdown",
      "metadata": {
        "id": "PxchDYMDad6S"
      },
      "source": [
        "#### Simple way to Read Dataset & Check its Schema"
      ]
    },
    {
      "cell_type": "code",
      "metadata": {
        "colab": {
          "base_uri": "https://localhost:8080/"
        },
        "id": "AkuVwu7_aWG_",
        "outputId": "8aff3580-b1a7-4cc8-c1c3-3c3ba3f5c30f"
      },
      "source": [
        "df_pyspark=spark.read.csv(\"test1.csv\",header=True, inferSchema = True)\n",
        "df_pyspark.show()"
      ],
      "execution_count": 17,
      "outputs": [
        {
          "output_type": "stream",
          "text": [
            "+---------------+---+----------+\n",
            "|           Name|Age|Experience|\n",
            "+---------------+---+----------+\n",
            "|Sarthak Agarwal| 25|         1|\n",
            "|  Sarthak Datta| 26|         2|\n",
            "| Sandip Ganguly| 27|         4|\n",
            "+---------------+---+----------+\n",
            "\n"
          ],
          "name": "stdout"
        }
      ]
    },
    {
      "cell_type": "code",
      "metadata": {
        "colab": {
          "base_uri": "https://localhost:8080/"
        },
        "id": "T_rBLxjqagfy",
        "outputId": "cb630b82-4b35-474a-f6c6-bc1aa2b62adf"
      },
      "source": [
        "# Schema check\n",
        "df_pyspark.printSchema()"
      ],
      "execution_count": 18,
      "outputs": [
        {
          "output_type": "stream",
          "text": [
            "root\n",
            " |-- Name: string (nullable = true)\n",
            " |-- Age: integer (nullable = true)\n",
            " |-- Experience: integer (nullable = true)\n",
            "\n"
          ],
          "name": "stdout"
        }
      ]
    },
    {
      "cell_type": "code",
      "metadata": {
        "colab": {
          "base_uri": "https://localhost:8080/"
        },
        "id": "-hMFJXKDajUp",
        "outputId": "ee3cc4ad-28af-4923-bbcc-03bfb1f7bb72"
      },
      "source": [
        "type(df_pyspark)"
      ],
      "execution_count": 19,
      "outputs": [
        {
          "output_type": "execute_result",
          "data": {
            "text/plain": [
              "pyspark.sql.dataframe.DataFrame"
            ]
          },
          "metadata": {
            "tags": []
          },
          "execution_count": 19
        }
      ]
    },
    {
      "cell_type": "code",
      "metadata": {
        "colab": {
          "base_uri": "https://localhost:8080/"
        },
        "id": "zdYVgtSBal9M",
        "outputId": "c64a3660-858a-47ca-9529-fb474183e5cc"
      },
      "source": [
        "df_pyspark.columns # Fetching Column Names"
      ],
      "execution_count": 20,
      "outputs": [
        {
          "output_type": "execute_result",
          "data": {
            "text/plain": [
              "['Name', 'Age', 'Experience']"
            ]
          },
          "metadata": {
            "tags": []
          },
          "execution_count": 20
        }
      ]
    },
    {
      "cell_type": "code",
      "metadata": {
        "colab": {
          "base_uri": "https://localhost:8080/"
        },
        "id": "T3D7c4CWavgy",
        "outputId": "d2b788d4-e77b-4f1a-8c35-e57f01c5c75b"
      },
      "source": [
        "df_pyspark.head(2) # Output: a List containning data to first two records"
      ],
      "execution_count": 21,
      "outputs": [
        {
          "output_type": "execute_result",
          "data": {
            "text/plain": [
              "[Row(Name='Sarthak Agarwal', Age=25, Experience=1),\n",
              " Row(Name='Sarthak Datta', Age=26, Experience=2)]"
            ]
          },
          "metadata": {
            "tags": []
          },
          "execution_count": 21
        }
      ]
    },
    {
      "cell_type": "code",
      "metadata": {
        "colab": {
          "base_uri": "https://localhost:8080/"
        },
        "id": "kPUNGFTCaw7r",
        "outputId": "27cba69e-c133-4b07-f59a-a9fe109ea1ed"
      },
      "source": [
        "## Column Indexing\n",
        "df_pyspark.select(\"Name\")"
      ],
      "execution_count": 22,
      "outputs": [
        {
          "output_type": "execute_result",
          "data": {
            "text/plain": [
              "DataFrame[Name: string]"
            ]
          },
          "metadata": {
            "tags": []
          },
          "execution_count": 22
        }
      ]
    },
    {
      "cell_type": "code",
      "metadata": {
        "colab": {
          "base_uri": "https://localhost:8080/"
        },
        "id": "lXJ7rahVazP9",
        "outputId": "c6ed5427-b0d9-4e38-f630-d30f009c2162"
      },
      "source": [
        "df_pyspark.select(\"Name\").show()"
      ],
      "execution_count": 23,
      "outputs": [
        {
          "output_type": "stream",
          "text": [
            "+---------------+\n",
            "|           Name|\n",
            "+---------------+\n",
            "|Sarthak Agarwal|\n",
            "|  Sarthak Datta|\n",
            "| Sandip Ganguly|\n",
            "+---------------+\n",
            "\n"
          ],
          "name": "stdout"
        }
      ]
    },
    {
      "cell_type": "code",
      "metadata": {
        "colab": {
          "base_uri": "https://localhost:8080/"
        },
        "id": "QssTaUqKa1UV",
        "outputId": "58452478-ba00-4bb7-c563-3cc062784450"
      },
      "source": [
        "## Column Indexing (Multiple Column)\n",
        "df_pyspark.select([\"Name\",\"Experience\"])"
      ],
      "execution_count": 24,
      "outputs": [
        {
          "output_type": "execute_result",
          "data": {
            "text/plain": [
              "DataFrame[Name: string, Experience: int]"
            ]
          },
          "metadata": {
            "tags": []
          },
          "execution_count": 24
        }
      ]
    },
    {
      "cell_type": "code",
      "metadata": {
        "colab": {
          "base_uri": "https://localhost:8080/"
        },
        "id": "e2pEbE-Ua3ba",
        "outputId": "15b85556-2277-4129-cd81-fe8fa6a99d58"
      },
      "source": [
        "df_pyspark.select([\"Name\",\"Experience\"]).show()"
      ],
      "execution_count": 25,
      "outputs": [
        {
          "output_type": "stream",
          "text": [
            "+---------------+----------+\n",
            "|           Name|Experience|\n",
            "+---------------+----------+\n",
            "|Sarthak Agarwal|         1|\n",
            "|  Sarthak Datta|         2|\n",
            "| Sandip Ganguly|         4|\n",
            "+---------------+----------+\n",
            "\n"
          ],
          "name": "stdout"
        }
      ]
    },
    {
      "cell_type": "code",
      "metadata": {
        "colab": {
          "base_uri": "https://localhost:8080/"
        },
        "id": "T70XKDcha47Q",
        "outputId": "0159dcd4-1511-4981-c320-07967e5dcd78"
      },
      "source": [
        "df_pyspark[\"Name\"]"
      ],
      "execution_count": 26,
      "outputs": [
        {
          "output_type": "execute_result",
          "data": {
            "text/plain": [
              "Column<'Name'>"
            ]
          },
          "metadata": {
            "tags": []
          },
          "execution_count": 26
        }
      ]
    },
    {
      "cell_type": "code",
      "metadata": {
        "colab": {
          "base_uri": "https://localhost:8080/"
        },
        "id": "B_zjB4uKa7HQ",
        "outputId": "62e2a01a-0a2f-42bc-94ff-167dbb9c4968"
      },
      "source": [
        "df_pyspark.dtypes # Functionality of .dtypes function more or less similar to pandas"
      ],
      "execution_count": 27,
      "outputs": [
        {
          "output_type": "execute_result",
          "data": {
            "text/plain": [
              "[('Name', 'string'), ('Age', 'int'), ('Experience', 'int')]"
            ]
          },
          "metadata": {
            "tags": []
          },
          "execution_count": 27
        }
      ]
    },
    {
      "cell_type": "code",
      "metadata": {
        "colab": {
          "base_uri": "https://localhost:8080/"
        },
        "id": "pH8YsbORa9ED",
        "outputId": "50a5fa5f-e9a7-4d81-deec-fe0edfcc18dd"
      },
      "source": [
        "#Describe Option\n",
        "df_pyspark.describe().show()"
      ],
      "execution_count": 28,
      "outputs": [
        {
          "output_type": "stream",
          "text": [
            "+-------+--------------+----+------------------+\n",
            "|summary|          Name| Age|        Experience|\n",
            "+-------+--------------+----+------------------+\n",
            "|  count|             3|   3|                 3|\n",
            "|   mean|          null|26.0|2.3333333333333335|\n",
            "| stddev|          null| 1.0|1.5275252316519465|\n",
            "|    min|Sandip Ganguly|  25|                 1|\n",
            "|    max| Sarthak Datta|  27|                 4|\n",
            "+-------+--------------+----+------------------+\n",
            "\n"
          ],
          "name": "stdout"
        }
      ]
    },
    {
      "cell_type": "code",
      "metadata": {
        "id": "ubBnNPGea_LI"
      },
      "source": [
        "## Adding Column in the Spark Dataframe\n",
        "df_pyspark=df_pyspark.withColumn('Experience After 2 year',df_pyspark[\"Experience\"]+2)"
      ],
      "execution_count": 29,
      "outputs": []
    },
    {
      "cell_type": "code",
      "metadata": {
        "colab": {
          "base_uri": "https://localhost:8080/"
        },
        "id": "vnqK2n5VbB6b",
        "outputId": "b562766e-0bd8-4341-cc36-395507d13c1b"
      },
      "source": [
        "df_pyspark.show()"
      ],
      "execution_count": 30,
      "outputs": [
        {
          "output_type": "stream",
          "text": [
            "+---------------+---+----------+-----------------------+\n",
            "|           Name|Age|Experience|Experience After 2 year|\n",
            "+---------------+---+----------+-----------------------+\n",
            "|Sarthak Agarwal| 25|         1|                      3|\n",
            "|  Sarthak Datta| 26|         2|                      4|\n",
            "| Sandip Ganguly| 27|         4|                      6|\n",
            "+---------------+---+----------+-----------------------+\n",
            "\n"
          ],
          "name": "stdout"
        }
      ]
    },
    {
      "cell_type": "code",
      "metadata": {
        "id": "pwmnw9MubEjP"
      },
      "source": [
        "## Dropping Column in the Spark Dataframe\n",
        "df_pyspark=df_pyspark.drop('Experience After 2 year')"
      ],
      "execution_count": 31,
      "outputs": []
    },
    {
      "cell_type": "code",
      "metadata": {
        "colab": {
          "base_uri": "https://localhost:8080/"
        },
        "id": "q3SHcYkpbGbG",
        "outputId": "304d773e-9ca3-4b03-d34c-efb0dfae6543"
      },
      "source": [
        "df_pyspark.show()"
      ],
      "execution_count": 32,
      "outputs": [
        {
          "output_type": "stream",
          "text": [
            "+---------------+---+----------+\n",
            "|           Name|Age|Experience|\n",
            "+---------------+---+----------+\n",
            "|Sarthak Agarwal| 25|         1|\n",
            "|  Sarthak Datta| 26|         2|\n",
            "| Sandip Ganguly| 27|         4|\n",
            "+---------------+---+----------+\n",
            "\n"
          ],
          "name": "stdout"
        }
      ]
    },
    {
      "cell_type": "code",
      "metadata": {
        "id": "7ZaKQje4bIHL"
      },
      "source": [
        "## Renaming Column in the Spark Dataframe\n",
        "df_pyspark=df_pyspark.withColumnRenamed('Name','User Name')"
      ],
      "execution_count": 33,
      "outputs": []
    },
    {
      "cell_type": "code",
      "metadata": {
        "colab": {
          "base_uri": "https://localhost:8080/"
        },
        "id": "10MnHCIybK29",
        "outputId": "8b843c80-a3a3-40af-b7a0-0f959b15a331"
      },
      "source": [
        "df_pyspark.show()"
      ],
      "execution_count": 34,
      "outputs": [
        {
          "output_type": "stream",
          "text": [
            "+---------------+---+----------+\n",
            "|      User Name|Age|Experience|\n",
            "+---------------+---+----------+\n",
            "|Sarthak Agarwal| 25|         1|\n",
            "|  Sarthak Datta| 26|         2|\n",
            "| Sandip Ganguly| 27|         4|\n",
            "+---------------+---+----------+\n",
            "\n"
          ],
          "name": "stdout"
        }
      ]
    },
    {
      "cell_type": "code",
      "metadata": {
        "id": "dyK6ZiTXbawG"
      },
      "source": [
        ""
      ],
      "execution_count": null,
      "outputs": []
    }
  ]
}