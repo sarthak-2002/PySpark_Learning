{
  "nbformat": 4,
  "nbformat_minor": 0,
  "metadata": {
    "colab": {
      "name": "Pysark Filter Operations.ipynb",
      "provenance": [],
      "toc_visible": true,
      "authorship_tag": "ABX9TyM67i9Af5GGhHrBQm1ZBv4g",
      "include_colab_link": true
    },
    "kernelspec": {
      "name": "python3",
      "display_name": "Python 3"
    },
    "language_info": {
      "name": "python"
    }
  },
  "cells": [
    {
      "cell_type": "markdown",
      "metadata": {
        "id": "view-in-github",
        "colab_type": "text"
      },
      "source": [
        "<a href=\"https://colab.research.google.com/github/sarthak-2002/PySpark_Learning/blob/main/Pysark_Filter_Operations.ipynb\" target=\"_parent\"><img src=\"https://colab.research.google.com/assets/colab-badge.svg\" alt=\"Open In Colab\"/></a>"
      ]
    },
    {
      "cell_type": "code",
      "metadata": {
        "colab": {
          "base_uri": "https://localhost:8080/"
        },
        "id": "m9GIbYi9eAgs",
        "outputId": "40114e2a-f639-4237-92d2-e90a3f891f43"
      },
      "source": [
        "!pip install pyspark"
      ],
      "execution_count": 1,
      "outputs": [
        {
          "output_type": "stream",
          "text": [
            "Collecting pyspark\n",
            "\u001b[?25l  Downloading https://files.pythonhosted.org/packages/89/db/e18cfd78e408de957821ec5ca56de1250645b05f8523d169803d8df35a64/pyspark-3.1.2.tar.gz (212.4MB)\n",
            "\u001b[K     |████████████████████████████████| 212.4MB 70kB/s \n",
            "\u001b[?25hCollecting py4j==0.10.9\n",
            "\u001b[?25l  Downloading https://files.pythonhosted.org/packages/9e/b6/6a4fb90cd235dc8e265a6a2067f2a2c99f0d91787f06aca4bcf7c23f3f80/py4j-0.10.9-py2.py3-none-any.whl (198kB)\n",
            "\u001b[K     |████████████████████████████████| 204kB 17.2MB/s \n",
            "\u001b[?25hBuilding wheels for collected packages: pyspark\n",
            "  Building wheel for pyspark (setup.py) ... \u001b[?25l\u001b[?25hdone\n",
            "  Created wheel for pyspark: filename=pyspark-3.1.2-py2.py3-none-any.whl size=212880768 sha256=2eae54e24ca7bbb022a1c0e415378745ba111bcc6967fe0f863fd62ec881c560\n",
            "  Stored in directory: /root/.cache/pip/wheels/40/1b/2c/30f43be2627857ab80062bef1527c0128f7b4070b6b2d02139\n",
            "Successfully built pyspark\n",
            "Installing collected packages: py4j, pyspark\n",
            "Successfully installed py4j-0.10.9 pyspark-3.1.2\n"
          ],
          "name": "stdout"
        }
      ]
    },
    {
      "cell_type": "markdown",
      "metadata": {
        "id": "lMmCc5O7eEFW"
      },
      "source": [
        "### Learning Outcome: Filter Operations\n",
        "\n",
        "    1. Filter Operations\n",
        "    2. &,|,==\n",
        "    3. ~\n",
        "    "
      ]
    },
    {
      "cell_type": "code",
      "metadata": {
        "colab": {
          "base_uri": "https://localhost:8080/",
          "height": 218
        },
        "id": "SmdiOsaaeBD_",
        "outputId": "dd6c6e14-c315-410f-e82a-3274bbb87d47"
      },
      "source": [
        "import pyspark\n",
        "from pyspark.sql import SparkSession\n",
        "spark = SparkSession.builder.appName('Dataframe').getOrCreate()\n",
        "spark"
      ],
      "execution_count": 2,
      "outputs": [
        {
          "output_type": "execute_result",
          "data": {
            "text/html": [
              "\n",
              "            <div>\n",
              "                <p><b>SparkSession - in-memory</b></p>\n",
              "                \n",
              "        <div>\n",
              "            <p><b>SparkContext</b></p>\n",
              "\n",
              "            <p><a href=\"http://94dc12322c6a:4040\">Spark UI</a></p>\n",
              "\n",
              "            <dl>\n",
              "              <dt>Version</dt>\n",
              "                <dd><code>v3.1.2</code></dd>\n",
              "              <dt>Master</dt>\n",
              "                <dd><code>local[*]</code></dd>\n",
              "              <dt>AppName</dt>\n",
              "                <dd><code>Dataframe</code></dd>\n",
              "            </dl>\n",
              "        </div>\n",
              "        \n",
              "            </div>\n",
              "        "
            ],
            "text/plain": [
              "<pyspark.sql.session.SparkSession at 0x7f5e6c956bd0>"
            ]
          },
          "metadata": {
            "tags": []
          },
          "execution_count": 2
        }
      ]
    },
    {
      "cell_type": "code",
      "metadata": {
        "colab": {
          "base_uri": "https://localhost:8080/"
        },
        "id": "U5cUdFYieRo1",
        "outputId": "221079b4-5ab7-4f9c-b903-10bdd3f4797d"
      },
      "source": [
        "df_pyspark=spark.read.option(\"header\",\"true\").csv(\"test3.csv\",inferSchema = True)\n",
        "df_pyspark.show()"
      ],
      "execution_count": 3,
      "outputs": [
        {
          "output_type": "stream",
          "text": [
            "+-------------------+---+----------+------+\n",
            "|               Name|Age|Experience|Salary|\n",
            "+-------------------+---+----------+------+\n",
            "|    Sarthak Agarwal| 25|         1| 30000|\n",
            "|      Sarthak Datta| 26|         2| 25000|\n",
            "|     Sandip Ganguly| 27|         4| 20000|\n",
            "|    Asmita Purohit | 23|         3| 20000|\n",
            "|Mohammed Anzar Asif| 24|         1| 15000|\n",
            "|   Muskan Chourasia| 21|         1| 18000|\n",
            "+-------------------+---+----------+------+\n",
            "\n"
          ],
          "name": "stdout"
        }
      ]
    },
    {
      "cell_type": "markdown",
      "metadata": {
        "id": "9VszFOUUedyo"
      },
      "source": [
        "#### Filter Operations"
      ]
    },
    {
      "cell_type": "code",
      "metadata": {
        "colab": {
          "base_uri": "https://localhost:8080/"
        },
        "id": "AvzUvHxZea7e",
        "outputId": "069847fa-8af4-4587-fd72-658ae05cce1a"
      },
      "source": [
        "### Salary of people less than equal to 20000\n",
        "print(df_pyspark.filter(\"Salary<=20000\").show())\n",
        "#or\n",
        "print(df_pyspark.filter(df_pyspark[\"Salary\"]<=20000).show()) # Both line of code works similarly"
      ],
      "execution_count": 4,
      "outputs": [
        {
          "output_type": "stream",
          "text": [
            "+-------------------+---+----------+------+\n",
            "|               Name|Age|Experience|Salary|\n",
            "+-------------------+---+----------+------+\n",
            "|     Sandip Ganguly| 27|         4| 20000|\n",
            "|    Asmita Purohit | 23|         3| 20000|\n",
            "|Mohammed Anzar Asif| 24|         1| 15000|\n",
            "|   Muskan Chourasia| 21|         1| 18000|\n",
            "+-------------------+---+----------+------+\n",
            "\n",
            "None\n",
            "+-------------------+---+----------+------+\n",
            "|               Name|Age|Experience|Salary|\n",
            "+-------------------+---+----------+------+\n",
            "|     Sandip Ganguly| 27|         4| 20000|\n",
            "|    Asmita Purohit | 23|         3| 20000|\n",
            "|Mohammed Anzar Asif| 24|         1| 15000|\n",
            "|   Muskan Chourasia| 21|         1| 18000|\n",
            "+-------------------+---+----------+------+\n",
            "\n",
            "None\n"
          ],
          "name": "stdout"
        }
      ]
    },
    {
      "cell_type": "code",
      "metadata": {
        "colab": {
          "base_uri": "https://localhost:8080/"
        },
        "id": "V-kX2c7VegG-",
        "outputId": "a497ce2b-4c5f-4440-fa66-7503b70e3960"
      },
      "source": [
        "df_pyspark.filter(\"Salary<=20000\").select([\"Name\",\"Age\"]).show()"
      ],
      "execution_count": 5,
      "outputs": [
        {
          "output_type": "stream",
          "text": [
            "+-------------------+---+\n",
            "|               Name|Age|\n",
            "+-------------------+---+\n",
            "|     Sandip Ganguly| 27|\n",
            "|    Asmita Purohit | 23|\n",
            "|Mohammed Anzar Asif| 24|\n",
            "|   Muskan Chourasia| 21|\n",
            "+-------------------+---+\n",
            "\n"
          ],
          "name": "stdout"
        }
      ]
    },
    {
      "cell_type": "code",
      "metadata": {
        "colab": {
          "base_uri": "https://localhost:8080/"
        },
        "id": "5on8_XKmenCF",
        "outputId": "702974ed-06fb-4cc2-fb81-89ea337a5fd2"
      },
      "source": [
        "### And filter Operation\n",
        "print(df_pyspark.filter((df_pyspark[\"Salary\"]<=20000) & (df_pyspark[\"Salary\"]>=15000)).show())"
      ],
      "execution_count": 6,
      "outputs": [
        {
          "output_type": "stream",
          "text": [
            "+-------------------+---+----------+------+\n",
            "|               Name|Age|Experience|Salary|\n",
            "+-------------------+---+----------+------+\n",
            "|     Sandip Ganguly| 27|         4| 20000|\n",
            "|    Asmita Purohit | 23|         3| 20000|\n",
            "|Mohammed Anzar Asif| 24|         1| 15000|\n",
            "|   Muskan Chourasia| 21|         1| 18000|\n",
            "+-------------------+---+----------+------+\n",
            "\n",
            "None\n"
          ],
          "name": "stdout"
        }
      ]
    },
    {
      "cell_type": "code",
      "metadata": {
        "colab": {
          "base_uri": "https://localhost:8080/"
        },
        "id": "a6KhfZW6epOI",
        "outputId": "f2d49264-2d00-42a2-ce49-d36f0bbf12f0"
      },
      "source": [
        "### Or and equal to equal to filter Operation\n",
        "print(df_pyspark.filter((df_pyspark[\"Salary\"]<=20000) | (df_pyspark[\"Experience\"]==1)).show())"
      ],
      "execution_count": 7,
      "outputs": [
        {
          "output_type": "stream",
          "text": [
            "+-------------------+---+----------+------+\n",
            "|               Name|Age|Experience|Salary|\n",
            "+-------------------+---+----------+------+\n",
            "|    Sarthak Agarwal| 25|         1| 30000|\n",
            "|     Sandip Ganguly| 27|         4| 20000|\n",
            "|    Asmita Purohit | 23|         3| 20000|\n",
            "|Mohammed Anzar Asif| 24|         1| 15000|\n",
            "|   Muskan Chourasia| 21|         1| 18000|\n",
            "+-------------------+---+----------+------+\n",
            "\n",
            "None\n"
          ],
          "name": "stdout"
        }
      ]
    },
    {
      "cell_type": "code",
      "metadata": {
        "colab": {
          "base_uri": "https://localhost:8080/"
        },
        "id": "uPS_tGLbeq8p",
        "outputId": "0f890133-db54-43d2-8f31-18dbc5030a94"
      },
      "source": [
        "### Inverse Filter Operation\n",
        "df_pyspark.filter(~(df_pyspark[\"Salary\"]<=20000)).show()"
      ],
      "execution_count": 8,
      "outputs": [
        {
          "output_type": "stream",
          "text": [
            "+---------------+---+----------+------+\n",
            "|           Name|Age|Experience|Salary|\n",
            "+---------------+---+----------+------+\n",
            "|Sarthak Agarwal| 25|         1| 30000|\n",
            "|  Sarthak Datta| 26|         2| 25000|\n",
            "+---------------+---+----------+------+\n",
            "\n"
          ],
          "name": "stdout"
        }
      ]
    },
    {
      "cell_type": "code",
      "metadata": {
        "id": "NzFU7tvTevQF"
      },
      "source": [
        ""
      ],
      "execution_count": null,
      "outputs": []
    }
  ]
}