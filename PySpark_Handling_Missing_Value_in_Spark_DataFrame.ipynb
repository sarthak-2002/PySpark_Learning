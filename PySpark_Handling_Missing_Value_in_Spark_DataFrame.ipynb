{
  "nbformat": 4,
  "nbformat_minor": 0,
  "metadata": {
    "colab": {
      "name": "PySpark Handling Missing Value in Spark DataFrame.ipynb",
      "provenance": [],
      "authorship_tag": "ABX9TyOYPUDm9Tbc2r1uSxK9/x9i",
      "include_colab_link": true
    },
    "kernelspec": {
      "name": "python3",
      "display_name": "Python 3"
    },
    "language_info": {
      "name": "python"
    }
  },
  "cells": [
    {
      "cell_type": "markdown",
      "metadata": {
        "id": "view-in-github",
        "colab_type": "text"
      },
      "source": [
        "<a href=\"https://colab.research.google.com/github/sarthak-2002/PySpark_Learning/blob/main/PySpark_Handling_Missing_Value_in_Spark_DataFrame.ipynb\" target=\"_parent\"><img src=\"https://colab.research.google.com/assets/colab-badge.svg\" alt=\"Open In Colab\"/></a>"
      ]
    },
    {
      "cell_type": "code",
      "metadata": {
        "colab": {
          "base_uri": "https://localhost:8080/"
        },
        "id": "5n-n8WJmcgG5",
        "outputId": "dfec1a01-b239-41ed-859c-436b44191f42"
      },
      "source": [
        "!pip install pyspark"
      ],
      "execution_count": 4,
      "outputs": [
        {
          "output_type": "stream",
          "text": [
            "Collecting pyspark\n",
            "\u001b[?25l  Downloading https://files.pythonhosted.org/packages/89/db/e18cfd78e408de957821ec5ca56de1250645b05f8523d169803d8df35a64/pyspark-3.1.2.tar.gz (212.4MB)\n",
            "\u001b[K     |████████████████████████████████| 212.4MB 59kB/s \n",
            "\u001b[?25hCollecting py4j==0.10.9\n",
            "\u001b[?25l  Downloading https://files.pythonhosted.org/packages/9e/b6/6a4fb90cd235dc8e265a6a2067f2a2c99f0d91787f06aca4bcf7c23f3f80/py4j-0.10.9-py2.py3-none-any.whl (198kB)\n",
            "\u001b[K     |████████████████████████████████| 204kB 19.0MB/s \n",
            "\u001b[?25hBuilding wheels for collected packages: pyspark\n",
            "  Building wheel for pyspark (setup.py) ... \u001b[?25l\u001b[?25hdone\n",
            "  Created wheel for pyspark: filename=pyspark-3.1.2-py2.py3-none-any.whl size=212880768 sha256=eccea142e15054ac2a5441e42aadcebccdd211697d3b6a58b72874ab2b09ca34\n",
            "  Stored in directory: /root/.cache/pip/wheels/40/1b/2c/30f43be2627857ab80062bef1527c0128f7b4070b6b2d02139\n",
            "Successfully built pyspark\n",
            "Installing collected packages: py4j, pyspark\n",
            "Successfully installed py4j-0.10.9 pyspark-3.1.2\n"
          ],
          "name": "stdout"
        }
      ]
    },
    {
      "cell_type": "markdown",
      "metadata": {
        "id": "PH8c52OtcLMg"
      },
      "source": [
        "### Learning Outcome: PySpark Handling Missing Value in Spark DataFrame\n",
        "\n",
        "    1. Dropping Columns\n",
        "    2. Dropping Rows\n",
        "    3. Various Parameters in Dropping Functionalities\n",
        "    4. Handling Missing Values by Mean, Median & Mode"
      ]
    },
    {
      "cell_type": "code",
      "metadata": {
        "colab": {
          "base_uri": "https://localhost:8080/",
          "height": 218
        },
        "id": "nLXjbVW0b7Zt",
        "outputId": "fa165296-596a-4231-ed2a-1fafff3c1f14"
      },
      "source": [
        "import pyspark\n",
        "from pyspark.sql import SparkSession\n",
        "spark = SparkSession.builder.appName('Dataframe').getOrCreate()\n",
        "spark"
      ],
      "execution_count": 5,
      "outputs": [
        {
          "output_type": "execute_result",
          "data": {
            "text/html": [
              "\n",
              "            <div>\n",
              "                <p><b>SparkSession - in-memory</b></p>\n",
              "                \n",
              "        <div>\n",
              "            <p><b>SparkContext</b></p>\n",
              "\n",
              "            <p><a href=\"http://47d44b97543f:4040\">Spark UI</a></p>\n",
              "\n",
              "            <dl>\n",
              "              <dt>Version</dt>\n",
              "                <dd><code>v3.1.2</code></dd>\n",
              "              <dt>Master</dt>\n",
              "                <dd><code>local[*]</code></dd>\n",
              "              <dt>AppName</dt>\n",
              "                <dd><code>Dataframe</code></dd>\n",
              "            </dl>\n",
              "        </div>\n",
              "        \n",
              "            </div>\n",
              "        "
            ],
            "text/plain": [
              "<pyspark.sql.session.SparkSession at 0x7f64e17020d0>"
            ]
          },
          "metadata": {
            "tags": []
          },
          "execution_count": 5
        }
      ]
    },
    {
      "cell_type": "code",
      "metadata": {
        "colab": {
          "base_uri": "https://localhost:8080/"
        },
        "id": "zroBT5d5cO1E",
        "outputId": "12e98cc4-4ce1-4cdd-90d2-8720eb2918ef"
      },
      "source": [
        "df_pyspark=spark.read.option(\"header\",\"true\").csv(\"test2.csv\",inferSchema = True)\n",
        "df_pyspark.show()"
      ],
      "execution_count": 7,
      "outputs": [
        {
          "output_type": "stream",
          "text": [
            "+-------------------+----+----------+------+\n",
            "|               Name| Age|Experience|Salary|\n",
            "+-------------------+----+----------+------+\n",
            "|    Sarthak Agarwal|  25|         1| 30000|\n",
            "|      Sarthak Datta|  26|         2| 25000|\n",
            "|     Sandip Ganguly|  27|         4| 20000|\n",
            "|    Asmita Purohit |  23|         3| 20000|\n",
            "|Mohammed Anzar Asif|  24|         1| 15000|\n",
            "|   Muskan Chourasia|  21|         1| 18000|\n",
            "|   Paridhi Agarwal |null|      null| 40000|\n",
            "|               null|  34|        10| 38000|\n",
            "|               null|  36|      null|  null|\n",
            "+-------------------+----+----------+------+\n",
            "\n"
          ],
          "name": "stdout"
        }
      ]
    },
    {
      "cell_type": "code",
      "metadata": {
        "colab": {
          "base_uri": "https://localhost:8080/"
        },
        "id": "vuI7NEkWcx-b",
        "outputId": "24a4c363-09ea-4c9b-dad5-d6332ce070d2"
      },
      "source": [
        "df_pyspark.drop('Name').show()"
      ],
      "execution_count": 8,
      "outputs": [
        {
          "output_type": "stream",
          "text": [
            "+----+----------+------+\n",
            "| Age|Experience|Salary|\n",
            "+----+----------+------+\n",
            "|  25|         1| 30000|\n",
            "|  26|         2| 25000|\n",
            "|  27|         4| 20000|\n",
            "|  23|         3| 20000|\n",
            "|  24|         1| 15000|\n",
            "|  21|         1| 18000|\n",
            "|null|      null| 40000|\n",
            "|  34|        10| 38000|\n",
            "|  36|      null|  null|\n",
            "+----+----------+------+\n",
            "\n"
          ],
          "name": "stdout"
        }
      ]
    },
    {
      "cell_type": "code",
      "metadata": {
        "colab": {
          "base_uri": "https://localhost:8080/"
        },
        "id": "TfoHAmBec2l1",
        "outputId": "8add8a56-2d5a-4df4-898d-2f71b29ffdff"
      },
      "source": [
        "df_pyspark.na.drop().show()"
      ],
      "execution_count": 9,
      "outputs": [
        {
          "output_type": "stream",
          "text": [
            "+-------------------+---+----------+------+\n",
            "|               Name|Age|Experience|Salary|\n",
            "+-------------------+---+----------+------+\n",
            "|    Sarthak Agarwal| 25|         1| 30000|\n",
            "|      Sarthak Datta| 26|         2| 25000|\n",
            "|     Sandip Ganguly| 27|         4| 20000|\n",
            "|    Asmita Purohit | 23|         3| 20000|\n",
            "|Mohammed Anzar Asif| 24|         1| 15000|\n",
            "|   Muskan Chourasia| 21|         1| 18000|\n",
            "+-------------------+---+----------+------+\n",
            "\n"
          ],
          "name": "stdout"
        }
      ]
    },
    {
      "cell_type": "code",
      "metadata": {
        "colab": {
          "base_uri": "https://localhost:8080/"
        },
        "id": "5iVzXqVcc5IS",
        "outputId": "24d63217-72e8-4e4d-9641-64093e57a3f7"
      },
      "source": [
        "df_pyspark.na.drop(how=\"all\").show() # drops if all the values in a row is null "
      ],
      "execution_count": 10,
      "outputs": [
        {
          "output_type": "stream",
          "text": [
            "+-------------------+----+----------+------+\n",
            "|               Name| Age|Experience|Salary|\n",
            "+-------------------+----+----------+------+\n",
            "|    Sarthak Agarwal|  25|         1| 30000|\n",
            "|      Sarthak Datta|  26|         2| 25000|\n",
            "|     Sandip Ganguly|  27|         4| 20000|\n",
            "|    Asmita Purohit |  23|         3| 20000|\n",
            "|Mohammed Anzar Asif|  24|         1| 15000|\n",
            "|   Muskan Chourasia|  21|         1| 18000|\n",
            "|   Paridhi Agarwal |null|      null| 40000|\n",
            "|               null|  34|        10| 38000|\n",
            "|               null|  36|      null|  null|\n",
            "+-------------------+----+----------+------+\n",
            "\n"
          ],
          "name": "stdout"
        }
      ]
    },
    {
      "cell_type": "code",
      "metadata": {
        "colab": {
          "base_uri": "https://localhost:8080/"
        },
        "id": "kHFHbX7Ec7Xt",
        "outputId": "497ab059-4775-4d3d-8ccd-e0463ba8befc"
      },
      "source": [
        "df_pyspark.na.drop(how=\"any\").show() # drops if any of the value in row is null"
      ],
      "execution_count": 11,
      "outputs": [
        {
          "output_type": "stream",
          "text": [
            "+-------------------+---+----------+------+\n",
            "|               Name|Age|Experience|Salary|\n",
            "+-------------------+---+----------+------+\n",
            "|    Sarthak Agarwal| 25|         1| 30000|\n",
            "|      Sarthak Datta| 26|         2| 25000|\n",
            "|     Sandip Ganguly| 27|         4| 20000|\n",
            "|    Asmita Purohit | 23|         3| 20000|\n",
            "|Mohammed Anzar Asif| 24|         1| 15000|\n",
            "|   Muskan Chourasia| 21|         1| 18000|\n",
            "+-------------------+---+----------+------+\n",
            "\n"
          ],
          "name": "stdout"
        }
      ]
    },
    {
      "cell_type": "code",
      "metadata": {
        "colab": {
          "base_uri": "https://localhost:8080/"
        },
        "id": "-UjaRd8dc_43",
        "outputId": "0c03efb4-7744-41ee-ae7f-4761a1349f39"
      },
      "source": [
        "df_pyspark.na.drop(how=\"any\",thresh=2).show() #thresh=2 means a record should contain atleast 2 non null values or else it will be dropped"
      ],
      "execution_count": 12,
      "outputs": [
        {
          "output_type": "stream",
          "text": [
            "+-------------------+----+----------+------+\n",
            "|               Name| Age|Experience|Salary|\n",
            "+-------------------+----+----------+------+\n",
            "|    Sarthak Agarwal|  25|         1| 30000|\n",
            "|      Sarthak Datta|  26|         2| 25000|\n",
            "|     Sandip Ganguly|  27|         4| 20000|\n",
            "|    Asmita Purohit |  23|         3| 20000|\n",
            "|Mohammed Anzar Asif|  24|         1| 15000|\n",
            "|   Muskan Chourasia|  21|         1| 18000|\n",
            "|   Paridhi Agarwal |null|      null| 40000|\n",
            "|               null|  34|        10| 38000|\n",
            "+-------------------+----+----------+------+\n",
            "\n"
          ],
          "name": "stdout"
        }
      ]
    },
    {
      "cell_type": "code",
      "metadata": {
        "colab": {
          "base_uri": "https://localhost:8080/"
        },
        "id": "NoNpnclRdEJP",
        "outputId": "0cdc8d88-b1b2-4d5d-e219-baa75c8662d7"
      },
      "source": [
        "df_pyspark.na.drop(how=\"any\",thresh=3).show()#thresh=3 means a record should contain atleast 3 non null values or else it will be dropped"
      ],
      "execution_count": 13,
      "outputs": [
        {
          "output_type": "stream",
          "text": [
            "+-------------------+---+----------+------+\n",
            "|               Name|Age|Experience|Salary|\n",
            "+-------------------+---+----------+------+\n",
            "|    Sarthak Agarwal| 25|         1| 30000|\n",
            "|      Sarthak Datta| 26|         2| 25000|\n",
            "|     Sandip Ganguly| 27|         4| 20000|\n",
            "|    Asmita Purohit | 23|         3| 20000|\n",
            "|Mohammed Anzar Asif| 24|         1| 15000|\n",
            "|   Muskan Chourasia| 21|         1| 18000|\n",
            "|               null| 34|        10| 38000|\n",
            "+-------------------+---+----------+------+\n",
            "\n"
          ],
          "name": "stdout"
        }
      ]
    },
    {
      "cell_type": "code",
      "metadata": {
        "colab": {
          "base_uri": "https://localhost:8080/"
        },
        "id": "A3xpStpHdIbi",
        "outputId": "24d3068e-6446-494c-9209-0a1be0d05998"
      },
      "source": [
        "df_pyspark.show()"
      ],
      "execution_count": 14,
      "outputs": [
        {
          "output_type": "stream",
          "text": [
            "+-------------------+----+----------+------+\n",
            "|               Name| Age|Experience|Salary|\n",
            "+-------------------+----+----------+------+\n",
            "|    Sarthak Agarwal|  25|         1| 30000|\n",
            "|      Sarthak Datta|  26|         2| 25000|\n",
            "|     Sandip Ganguly|  27|         4| 20000|\n",
            "|    Asmita Purohit |  23|         3| 20000|\n",
            "|Mohammed Anzar Asif|  24|         1| 15000|\n",
            "|   Muskan Chourasia|  21|         1| 18000|\n",
            "|   Paridhi Agarwal |null|      null| 40000|\n",
            "|               null|  34|        10| 38000|\n",
            "|               null|  36|      null|  null|\n",
            "+-------------------+----+----------+------+\n",
            "\n"
          ],
          "name": "stdout"
        }
      ]
    },
    {
      "cell_type": "code",
      "metadata": {
        "colab": {
          "base_uri": "https://localhost:8080/"
        },
        "id": "udlD2FQMdLG_",
        "outputId": "e090ed9a-90b4-4cd5-ed2e-bb0688164abb"
      },
      "source": [
        "df_pyspark.na.drop(how=\"any\",subset=['Age']).show() # remove a record if there is null value in the Age Column wrt that record"
      ],
      "execution_count": 15,
      "outputs": [
        {
          "output_type": "stream",
          "text": [
            "+-------------------+---+----------+------+\n",
            "|               Name|Age|Experience|Salary|\n",
            "+-------------------+---+----------+------+\n",
            "|    Sarthak Agarwal| 25|         1| 30000|\n",
            "|      Sarthak Datta| 26|         2| 25000|\n",
            "|     Sandip Ganguly| 27|         4| 20000|\n",
            "|    Asmita Purohit | 23|         3| 20000|\n",
            "|Mohammed Anzar Asif| 24|         1| 15000|\n",
            "|   Muskan Chourasia| 21|         1| 18000|\n",
            "|               null| 34|        10| 38000|\n",
            "|               null| 36|      null|  null|\n",
            "+-------------------+---+----------+------+\n",
            "\n"
          ],
          "name": "stdout"
        }
      ]
    },
    {
      "cell_type": "code",
      "metadata": {
        "colab": {
          "base_uri": "https://localhost:8080/"
        },
        "id": "W1iyAu-KdNsi",
        "outputId": "ba9201ef-0bc7-4fc0-f920-83ac812a4a47"
      },
      "source": [
        "df_pyspark.na.drop(how=\"any\",subset=['Experience']).show() # remove a record if there is null value in the Experience Column wrt that record"
      ],
      "execution_count": 16,
      "outputs": [
        {
          "output_type": "stream",
          "text": [
            "+-------------------+---+----------+------+\n",
            "|               Name|Age|Experience|Salary|\n",
            "+-------------------+---+----------+------+\n",
            "|    Sarthak Agarwal| 25|         1| 30000|\n",
            "|      Sarthak Datta| 26|         2| 25000|\n",
            "|     Sandip Ganguly| 27|         4| 20000|\n",
            "|    Asmita Purohit | 23|         3| 20000|\n",
            "|Mohammed Anzar Asif| 24|         1| 15000|\n",
            "|   Muskan Chourasia| 21|         1| 18000|\n",
            "|               null| 34|        10| 38000|\n",
            "+-------------------+---+----------+------+\n",
            "\n"
          ],
          "name": "stdout"
        }
      ]
    },
    {
      "cell_type": "code",
      "metadata": {
        "colab": {
          "base_uri": "https://localhost:8080/"
        },
        "id": "VlhESogddPlT",
        "outputId": "81a0a441-56d8-4cfa-dfc1-a8b7e5dd4266"
      },
      "source": [
        "df_pyspark.na.drop(how=\"any\",subset=['Salary']).show() # remove a record if there is null value in the Salary Column wrt that record"
      ],
      "execution_count": 17,
      "outputs": [
        {
          "output_type": "stream",
          "text": [
            "+-------------------+----+----------+------+\n",
            "|               Name| Age|Experience|Salary|\n",
            "+-------------------+----+----------+------+\n",
            "|    Sarthak Agarwal|  25|         1| 30000|\n",
            "|      Sarthak Datta|  26|         2| 25000|\n",
            "|     Sandip Ganguly|  27|         4| 20000|\n",
            "|    Asmita Purohit |  23|         3| 20000|\n",
            "|Mohammed Anzar Asif|  24|         1| 15000|\n",
            "|   Muskan Chourasia|  21|         1| 18000|\n",
            "|   Paridhi Agarwal |null|      null| 40000|\n",
            "|               null|  34|        10| 38000|\n",
            "+-------------------+----+----------+------+\n",
            "\n"
          ],
          "name": "stdout"
        }
      ]
    },
    {
      "cell_type": "code",
      "metadata": {
        "colab": {
          "base_uri": "https://localhost:8080/"
        },
        "id": "PGatJNlBdRp4",
        "outputId": "597f0297-c846-4fff-bacd-20d9b3f7baac"
      },
      "source": [
        "df_pyspark.na.drop(how=\"any\",subset=['Name']).show() # remove a record if there is null value in the Name Column wrt that record"
      ],
      "execution_count": 18,
      "outputs": [
        {
          "output_type": "stream",
          "text": [
            "+-------------------+----+----------+------+\n",
            "|               Name| Age|Experience|Salary|\n",
            "+-------------------+----+----------+------+\n",
            "|    Sarthak Agarwal|  25|         1| 30000|\n",
            "|      Sarthak Datta|  26|         2| 25000|\n",
            "|     Sandip Ganguly|  27|         4| 20000|\n",
            "|    Asmita Purohit |  23|         3| 20000|\n",
            "|Mohammed Anzar Asif|  24|         1| 15000|\n",
            "|   Muskan Chourasia|  21|         1| 18000|\n",
            "|   Paridhi Agarwal |null|      null| 40000|\n",
            "+-------------------+----+----------+------+\n",
            "\n"
          ],
          "name": "stdout"
        }
      ]
    },
    {
      "cell_type": "code",
      "metadata": {
        "colab": {
          "base_uri": "https://localhost:8080/"
        },
        "id": "cmV4vHzfdTeS",
        "outputId": "917c05f5-f1f7-48da-fc4e-5fdeb09228bf"
      },
      "source": [
        "# Filling the Missing Value\n",
        "df_pyspark.na.fill('Missing Value').show() # works for categorical data"
      ],
      "execution_count": 19,
      "outputs": [
        {
          "output_type": "stream",
          "text": [
            "+-------------------+----+----------+------+\n",
            "|               Name| Age|Experience|Salary|\n",
            "+-------------------+----+----------+------+\n",
            "|    Sarthak Agarwal|  25|         1| 30000|\n",
            "|      Sarthak Datta|  26|         2| 25000|\n",
            "|     Sandip Ganguly|  27|         4| 20000|\n",
            "|    Asmita Purohit |  23|         3| 20000|\n",
            "|Mohammed Anzar Asif|  24|         1| 15000|\n",
            "|   Muskan Chourasia|  21|         1| 18000|\n",
            "|   Paridhi Agarwal |null|      null| 40000|\n",
            "|      Missing Value|  34|        10| 38000|\n",
            "|      Missing Value|  36|      null|  null|\n",
            "+-------------------+----+----------+------+\n",
            "\n"
          ],
          "name": "stdout"
        }
      ]
    },
    {
      "cell_type": "code",
      "metadata": {
        "colab": {
          "base_uri": "https://localhost:8080/"
        },
        "id": "ctgOr4KkdV2Y",
        "outputId": "2294d497-8588-437f-ba0e-d25ea05379db"
      },
      "source": [
        "df_pyspark.na.fill(0,['Experience','Age','Salary']).show()"
      ],
      "execution_count": 20,
      "outputs": [
        {
          "output_type": "stream",
          "text": [
            "+-------------------+---+----------+------+\n",
            "|               Name|Age|Experience|Salary|\n",
            "+-------------------+---+----------+------+\n",
            "|    Sarthak Agarwal| 25|         1| 30000|\n",
            "|      Sarthak Datta| 26|         2| 25000|\n",
            "|     Sandip Ganguly| 27|         4| 20000|\n",
            "|    Asmita Purohit | 23|         3| 20000|\n",
            "|Mohammed Anzar Asif| 24|         1| 15000|\n",
            "|   Muskan Chourasia| 21|         1| 18000|\n",
            "|   Paridhi Agarwal |  0|         0| 40000|\n",
            "|               null| 34|        10| 38000|\n",
            "|               null| 36|         0|     0|\n",
            "+-------------------+---+----------+------+\n",
            "\n"
          ],
          "name": "stdout"
        }
      ]
    },
    {
      "cell_type": "code",
      "metadata": {
        "colab": {
          "base_uri": "https://localhost:8080/"
        },
        "id": "djnEe4r2dYSu",
        "outputId": "370fd4ed-c423-4ac2-8ed8-ec30ef6fc782"
      },
      "source": [
        "df_pyspark.na.fill('Missing Value',['Name']).show() # filling missing value for particular column"
      ],
      "execution_count": 22,
      "outputs": [
        {
          "output_type": "stream",
          "text": [
            "+-------------------+----+----------+------+\n",
            "|               Name| Age|Experience|Salary|\n",
            "+-------------------+----+----------+------+\n",
            "|    Sarthak Agarwal|  25|         1| 30000|\n",
            "|      Sarthak Datta|  26|         2| 25000|\n",
            "|     Sandip Ganguly|  27|         4| 20000|\n",
            "|    Asmita Purohit |  23|         3| 20000|\n",
            "|Mohammed Anzar Asif|  24|         1| 15000|\n",
            "|   Muskan Chourasia|  21|         1| 18000|\n",
            "|   Paridhi Agarwal |null|      null| 40000|\n",
            "|      Missing Value|  34|        10| 38000|\n",
            "|      Missing Value|  36|      null|  null|\n",
            "+-------------------+----+----------+------+\n",
            "\n"
          ],
          "name": "stdout"
        }
      ]
    },
    {
      "cell_type": "code",
      "metadata": {
        "id": "n5zQXjpFdgVU"
      },
      "source": [
        "#Imputation Missing Value using PySpark Imputer Function: With Mean\n",
        "\n",
        "from pyspark.ml.feature import Imputer\n",
        "\n",
        "imputer = Imputer(\n",
        "    inputCols=['Age', 'Experience', 'Salary'], \n",
        "    outputCols=[\"{}_imputed\".format(c) for c in ['Age', 'Experience', 'Salary']]\n",
        "    ).setStrategy(\"mean\")"
      ],
      "execution_count": 23,
      "outputs": []
    },
    {
      "cell_type": "code",
      "metadata": {
        "colab": {
          "base_uri": "https://localhost:8080/"
        },
        "id": "hjbhI7w3dq17",
        "outputId": "d35d7a4a-c514-4df1-b1c7-2b21183e4ae3"
      },
      "source": [
        "# Add imputation cols to df\n",
        "imputer.fit(df_pyspark).transform(df_pyspark).show()"
      ],
      "execution_count": 24,
      "outputs": [
        {
          "output_type": "stream",
          "text": [
            "+-------------------+----+----------+------+-----------+------------------+--------------+\n",
            "|               Name| Age|Experience|Salary|Age_imputed|Experience_imputed|Salary_imputed|\n",
            "+-------------------+----+----------+------+-----------+------------------+--------------+\n",
            "|    Sarthak Agarwal|  25|         1| 30000|         25|                 1|         30000|\n",
            "|      Sarthak Datta|  26|         2| 25000|         26|                 2|         25000|\n",
            "|     Sandip Ganguly|  27|         4| 20000|         27|                 4|         20000|\n",
            "|    Asmita Purohit |  23|         3| 20000|         23|                 3|         20000|\n",
            "|Mohammed Anzar Asif|  24|         1| 15000|         24|                 1|         15000|\n",
            "|   Muskan Chourasia|  21|         1| 18000|         21|                 1|         18000|\n",
            "|   Paridhi Agarwal |null|      null| 40000|         27|                 3|         40000|\n",
            "|               null|  34|        10| 38000|         34|                10|         38000|\n",
            "|               null|  36|      null|  null|         36|                 3|         25750|\n",
            "+-------------------+----+----------+------+-----------+------------------+--------------+\n",
            "\n"
          ],
          "name": "stdout"
        }
      ]
    },
    {
      "cell_type": "code",
      "metadata": {
        "id": "YegjK4n4dtBa"
      },
      "source": [
        "#Imputation Missing Value using PySpark Imputer Function: With Median\n",
        "\n",
        "from pyspark.ml.feature import Imputer\n",
        "\n",
        "imputer = Imputer(\n",
        "    inputCols=['Age', 'Experience', 'Salary'], \n",
        "    outputCols=[\"{}_imputed\".format(c) for c in ['Age', 'Experience', 'Salary']]\n",
        "    ).setStrategy(\"median\")"
      ],
      "execution_count": 25,
      "outputs": []
    },
    {
      "cell_type": "code",
      "metadata": {
        "colab": {
          "base_uri": "https://localhost:8080/"
        },
        "id": "B5uIE8MidwOM",
        "outputId": "66d5a767-432f-4a04-f08b-c9bf5a68f5cc"
      },
      "source": [
        "# Add imputation cols to df\n",
        "imputer.fit(df_pyspark).transform(df_pyspark).show()"
      ],
      "execution_count": 26,
      "outputs": [
        {
          "output_type": "stream",
          "text": [
            "+-------------------+----+----------+------+-----------+------------------+--------------+\n",
            "|               Name| Age|Experience|Salary|Age_imputed|Experience_imputed|Salary_imputed|\n",
            "+-------------------+----+----------+------+-----------+------------------+--------------+\n",
            "|    Sarthak Agarwal|  25|         1| 30000|         25|                 1|         30000|\n",
            "|      Sarthak Datta|  26|         2| 25000|         26|                 2|         25000|\n",
            "|     Sandip Ganguly|  27|         4| 20000|         27|                 4|         20000|\n",
            "|    Asmita Purohit |  23|         3| 20000|         23|                 3|         20000|\n",
            "|Mohammed Anzar Asif|  24|         1| 15000|         24|                 1|         15000|\n",
            "|   Muskan Chourasia|  21|         1| 18000|         21|                 1|         18000|\n",
            "|   Paridhi Agarwal |null|      null| 40000|         25|                 2|         40000|\n",
            "|               null|  34|        10| 38000|         34|                10|         38000|\n",
            "|               null|  36|      null|  null|         36|                 2|         20000|\n",
            "+-------------------+----+----------+------+-----------+------------------+--------------+\n",
            "\n"
          ],
          "name": "stdout"
        }
      ]
    },
    {
      "cell_type": "code",
      "metadata": {
        "id": "ZHD28TPTdyF9"
      },
      "source": [
        "#Imputation Missing Value using PySpark Imputer Function: With Mode\n",
        "\n",
        "from pyspark.ml.feature import Imputer\n",
        "\n",
        "imputer = Imputer(\n",
        "    inputCols=['Age', 'Experience', 'Salary'], \n",
        "    outputCols=[\"{}_imputed\".format(c) for c in ['Age', 'Experience', 'Salary']]\n",
        "    ).setStrategy(\"mode\")"
      ],
      "execution_count": 27,
      "outputs": []
    },
    {
      "cell_type": "code",
      "metadata": {
        "colab": {
          "base_uri": "https://localhost:8080/"
        },
        "id": "4_DUwDRjd0Ze",
        "outputId": "47aa80b7-3bae-49fd-d338-f2eefb4cde44"
      },
      "source": [
        "# Add imputation cols to df\n",
        "imputer.fit(df_pyspark).transform(df_pyspark).show()"
      ],
      "execution_count": 28,
      "outputs": [
        {
          "output_type": "stream",
          "text": [
            "+-------------------+----+----------+------+-----------+------------------+--------------+\n",
            "|               Name| Age|Experience|Salary|Age_imputed|Experience_imputed|Salary_imputed|\n",
            "+-------------------+----+----------+------+-----------+------------------+--------------+\n",
            "|    Sarthak Agarwal|  25|         1| 30000|         25|                 1|         30000|\n",
            "|      Sarthak Datta|  26|         2| 25000|         26|                 2|         25000|\n",
            "|     Sandip Ganguly|  27|         4| 20000|         27|                 4|         20000|\n",
            "|    Asmita Purohit |  23|         3| 20000|         23|                 3|         20000|\n",
            "|Mohammed Anzar Asif|  24|         1| 15000|         24|                 1|         15000|\n",
            "|   Muskan Chourasia|  21|         1| 18000|         21|                 1|         18000|\n",
            "|   Paridhi Agarwal |null|      null| 40000|         21|                 1|         40000|\n",
            "|               null|  34|        10| 38000|         34|                10|         38000|\n",
            "|               null|  36|      null|  null|         36|                 1|         20000|\n",
            "+-------------------+----+----------+------+-----------+------------------+--------------+\n",
            "\n"
          ],
          "name": "stdout"
        }
      ]
    },
    {
      "cell_type": "code",
      "metadata": {
        "id": "XfjDx5YEd2Ja"
      },
      "source": [
        ""
      ],
      "execution_count": null,
      "outputs": []
    }
  ]
}